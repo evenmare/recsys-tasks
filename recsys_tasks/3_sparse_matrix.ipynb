{
 "cells": [
  {
   "cell_type": "code",
   "id": "initial_id",
   "metadata": {
    "collapsed": true,
    "ExecuteTime": {
     "end_time": "2024-10-24T16:15:01.561788Z",
     "start_time": "2024-10-24T16:15:01.095103Z"
    }
   },
   "source": [
    "from IPython.display import display\n",
    "\n",
    "import numpy as np\n",
    "import pandas as pd\n",
    "\n",
    "from conf.settings import (\n",
    "    get_settings, Settings,\n",
    "    get_read_file_settings, ReadFileSettings,\n",
    ")\n",
    "from recsys_tasks.processors.sparse_matrix import SparseMatrixProcessor\n"
   ],
   "outputs": [],
   "execution_count": 1
  },
  {
   "metadata": {
    "ExecuteTime": {
     "end_time": "2024-10-24T16:15:01.574262Z",
     "start_time": "2024-10-24T16:15:01.571244Z"
    }
   },
   "cell_type": "code",
   "source": [
    "# Получение конфигурации для расчетов.\n",
    "settings: Settings = get_settings()\n",
    "read_file_settings: ReadFileSettings = get_read_file_settings()"
   ],
   "id": "509d3ea638025a69",
   "outputs": [],
   "execution_count": 2
  },
  {
   "metadata": {
    "ExecuteTime": {
     "end_time": "2024-10-24T16:15:01.783917Z",
     "start_time": "2024-10-24T16:15:01.768901Z"
    }
   },
   "cell_type": "code",
   "source": [
    "# Получение матричного представления исходных данных.\n",
    "input_data_filename = '3_sparse_matrix.csv'\n",
    "input_data_filepath = settings.INPUT_DATA_DIR / input_data_filename\n",
    "\n",
    "source_data: np.ndarray = np.genfromtxt(\n",
    "    input_data_filepath,\n",
    "    dtype=float,\n",
    "    **read_file_settings.model_dump(),\n",
    ")\n",
    "source_data: np.ndarray[tuple[int, int], int]\n",
    "pd.DataFrame(source_data)"
   ],
   "id": "20d574bb2de49f04",
   "outputs": [
    {
     "data": {
      "text/plain": [
       "     0    1    2    3    4    5    6\n",
       "0  2.0  0.0  0.0  0.0  3.0  0.0  0.0\n",
       "1  0.0  0.0  3.0  4.0  0.0  0.0  0.0\n",
       "2  0.0  0.0  0.0  0.0  0.0  0.0  0.0\n",
       "3  0.0  0.0  0.0  5.0  0.0  0.0  4.0\n",
       "4  0.0  0.0  0.0  0.0  0.0  0.0  0.0\n",
       "5  0.0  5.0  4.0  0.0  0.0  0.0  5.0"
      ],
      "text/html": [
       "<div>\n",
       "<style scoped>\n",
       "    .dataframe tbody tr th:only-of-type {\n",
       "        vertical-align: middle;\n",
       "    }\n",
       "\n",
       "    .dataframe tbody tr th {\n",
       "        vertical-align: top;\n",
       "    }\n",
       "\n",
       "    .dataframe thead th {\n",
       "        text-align: right;\n",
       "    }\n",
       "</style>\n",
       "<table border=\"1\" class=\"dataframe\">\n",
       "  <thead>\n",
       "    <tr style=\"text-align: right;\">\n",
       "      <th></th>\n",
       "      <th>0</th>\n",
       "      <th>1</th>\n",
       "      <th>2</th>\n",
       "      <th>3</th>\n",
       "      <th>4</th>\n",
       "      <th>5</th>\n",
       "      <th>6</th>\n",
       "    </tr>\n",
       "  </thead>\n",
       "  <tbody>\n",
       "    <tr>\n",
       "      <th>0</th>\n",
       "      <td>2.0</td>\n",
       "      <td>0.0</td>\n",
       "      <td>0.0</td>\n",
       "      <td>0.0</td>\n",
       "      <td>3.0</td>\n",
       "      <td>0.0</td>\n",
       "      <td>0.0</td>\n",
       "    </tr>\n",
       "    <tr>\n",
       "      <th>1</th>\n",
       "      <td>0.0</td>\n",
       "      <td>0.0</td>\n",
       "      <td>3.0</td>\n",
       "      <td>4.0</td>\n",
       "      <td>0.0</td>\n",
       "      <td>0.0</td>\n",
       "      <td>0.0</td>\n",
       "    </tr>\n",
       "    <tr>\n",
       "      <th>2</th>\n",
       "      <td>0.0</td>\n",
       "      <td>0.0</td>\n",
       "      <td>0.0</td>\n",
       "      <td>0.0</td>\n",
       "      <td>0.0</td>\n",
       "      <td>0.0</td>\n",
       "      <td>0.0</td>\n",
       "    </tr>\n",
       "    <tr>\n",
       "      <th>3</th>\n",
       "      <td>0.0</td>\n",
       "      <td>0.0</td>\n",
       "      <td>0.0</td>\n",
       "      <td>5.0</td>\n",
       "      <td>0.0</td>\n",
       "      <td>0.0</td>\n",
       "      <td>4.0</td>\n",
       "    </tr>\n",
       "    <tr>\n",
       "      <th>4</th>\n",
       "      <td>0.0</td>\n",
       "      <td>0.0</td>\n",
       "      <td>0.0</td>\n",
       "      <td>0.0</td>\n",
       "      <td>0.0</td>\n",
       "      <td>0.0</td>\n",
       "      <td>0.0</td>\n",
       "    </tr>\n",
       "    <tr>\n",
       "      <th>5</th>\n",
       "      <td>0.0</td>\n",
       "      <td>5.0</td>\n",
       "      <td>4.0</td>\n",
       "      <td>0.0</td>\n",
       "      <td>0.0</td>\n",
       "      <td>0.0</td>\n",
       "      <td>5.0</td>\n",
       "    </tr>\n",
       "  </tbody>\n",
       "</table>\n",
       "</div>"
      ]
     },
     "execution_count": 3,
     "metadata": {},
     "output_type": "execute_result"
    }
   ],
   "execution_count": 3
  },
  {
   "metadata": {
    "ExecuteTime": {
     "end_time": "2024-10-24T16:15:01.820399Z",
     "start_time": "2024-10-24T16:15:01.817400Z"
    }
   },
   "cell_type": "code",
   "source": [
    "# Инициализация процессора\n",
    "processor = SparseMatrixProcessor(source_data)"
   ],
   "id": "43c87906a8fb2da2",
   "outputs": [],
   "execution_count": 4
  },
  {
   "metadata": {},
   "cell_type": "markdown",
   "source": "### 1. value-row-col",
   "id": "c38533ce2b0c53ba"
  },
  {
   "metadata": {
    "ExecuteTime": {
     "end_time": "2024-10-24T16:15:01.884820Z",
     "start_time": "2024-10-24T16:15:01.877086Z"
    }
   },
   "cell_type": "code",
   "source": [
    "values, rows, columns = processor.separated\n",
    "\n",
    "print('Значения:')\n",
    "display(values)\n",
    "\n",
    "print('Строки:')\n",
    "display(rows)\n",
    "\n",
    "print('Столбцы:')\n",
    "display(columns)"
   ],
   "id": "7004d1aac08a7f1f",
   "outputs": [
    {
     "name": "stdout",
     "output_type": "stream",
     "text": [
      "Значения:\n"
     ]
    },
    {
     "data": {
      "text/plain": [
       "array([2., 3., 3., 4., 5., 4., 5., 4., 5.])"
      ]
     },
     "metadata": {},
     "output_type": "display_data"
    },
    {
     "name": "stdout",
     "output_type": "stream",
     "text": [
      "Строки:\n"
     ]
    },
    {
     "data": {
      "text/plain": [
       "array([0, 0, 1, 1, 3, 3, 5, 5, 5])"
      ]
     },
     "metadata": {},
     "output_type": "display_data"
    },
    {
     "name": "stdout",
     "output_type": "stream",
     "text": [
      "Столбцы:\n"
     ]
    },
    {
     "data": {
      "text/plain": [
       "array([0, 4, 2, 3, 3, 6, 1, 2, 6])"
      ]
     },
     "metadata": {},
     "output_type": "display_data"
    }
   ],
   "execution_count": 5
  },
  {
   "metadata": {},
   "cell_type": "markdown",
   "source": "### 2. value-col-row_index",
   "id": "1c22d7201d3c1700"
  },
  {
   "metadata": {
    "ExecuteTime": {
     "end_time": "2024-10-24T16:15:01.981115Z",
     "start_time": "2024-10-24T16:15:01.974713Z"
    }
   },
   "cell_type": "code",
   "source": [
    "values, columns, row_index = processor.row_index\n",
    "\n",
    "print('Значения:')\n",
    "display(values)\n",
    "\n",
    "print('Столбцы:')\n",
    "display(rows)\n",
    "\n",
    "print('Индексы строк:')\n",
    "display(columns)"
   ],
   "id": "5e5cd5646f1ffa06",
   "outputs": [
    {
     "name": "stdout",
     "output_type": "stream",
     "text": [
      "Значения:\n"
     ]
    },
    {
     "data": {
      "text/plain": [
       "array([2., 3., 3., 4., 5., 4., 5., 4., 5.])"
      ]
     },
     "metadata": {},
     "output_type": "display_data"
    },
    {
     "name": "stdout",
     "output_type": "stream",
     "text": [
      "Столбцы:\n"
     ]
    },
    {
     "data": {
      "text/plain": [
       "array([0, 0, 1, 1, 3, 3, 5, 5, 5])"
      ]
     },
     "metadata": {},
     "output_type": "display_data"
    },
    {
     "name": "stdout",
     "output_type": "stream",
     "text": [
      "Индексы строк:\n"
     ]
    },
    {
     "data": {
      "text/plain": [
       "array([0, 4, 2, 3, 3, 6, 1, 2, 6])"
      ]
     },
     "metadata": {},
     "output_type": "display_data"
    }
   ],
   "execution_count": 6
  },
  {
   "metadata": {},
   "cell_type": "markdown",
   "source": "### 3. values-columns",
   "id": "b71a7cbef6c4217e"
  },
  {
   "metadata": {
    "ExecuteTime": {
     "end_time": "2024-10-24T16:15:02.039253Z",
     "start_time": "2024-10-24T16:15:02.028529Z"
    }
   },
   "cell_type": "code",
   "source": [
    "values_mx, columns_mx = processor.value_columns\n",
    "\n",
    "print('Матрица значений:')\n",
    "display(pd.DataFrame(values_mx))\n",
    "\n",
    "print('Матрица индексов столбцов:')\n",
    "display(pd.DataFrame(columns_mx))"
   ],
   "id": "af0a93b7d729f627",
   "outputs": [
    {
     "name": "stdout",
     "output_type": "stream",
     "text": [
      "Матрица значений:\n"
     ]
    },
    {
     "data": {
      "text/plain": [
       "     0    1    2\n",
       "0  2.0  3.0  0.0\n",
       "1  3.0  4.0  0.0\n",
       "2  0.0  0.0  0.0\n",
       "3  5.0  4.0  0.0\n",
       "4  0.0  0.0  0.0\n",
       "5  5.0  4.0  5.0"
      ],
      "text/html": [
       "<div>\n",
       "<style scoped>\n",
       "    .dataframe tbody tr th:only-of-type {\n",
       "        vertical-align: middle;\n",
       "    }\n",
       "\n",
       "    .dataframe tbody tr th {\n",
       "        vertical-align: top;\n",
       "    }\n",
       "\n",
       "    .dataframe thead th {\n",
       "        text-align: right;\n",
       "    }\n",
       "</style>\n",
       "<table border=\"1\" class=\"dataframe\">\n",
       "  <thead>\n",
       "    <tr style=\"text-align: right;\">\n",
       "      <th></th>\n",
       "      <th>0</th>\n",
       "      <th>1</th>\n",
       "      <th>2</th>\n",
       "    </tr>\n",
       "  </thead>\n",
       "  <tbody>\n",
       "    <tr>\n",
       "      <th>0</th>\n",
       "      <td>2.0</td>\n",
       "      <td>3.0</td>\n",
       "      <td>0.0</td>\n",
       "    </tr>\n",
       "    <tr>\n",
       "      <th>1</th>\n",
       "      <td>3.0</td>\n",
       "      <td>4.0</td>\n",
       "      <td>0.0</td>\n",
       "    </tr>\n",
       "    <tr>\n",
       "      <th>2</th>\n",
       "      <td>0.0</td>\n",
       "      <td>0.0</td>\n",
       "      <td>0.0</td>\n",
       "    </tr>\n",
       "    <tr>\n",
       "      <th>3</th>\n",
       "      <td>5.0</td>\n",
       "      <td>4.0</td>\n",
       "      <td>0.0</td>\n",
       "    </tr>\n",
       "    <tr>\n",
       "      <th>4</th>\n",
       "      <td>0.0</td>\n",
       "      <td>0.0</td>\n",
       "      <td>0.0</td>\n",
       "    </tr>\n",
       "    <tr>\n",
       "      <th>5</th>\n",
       "      <td>5.0</td>\n",
       "      <td>4.0</td>\n",
       "      <td>5.0</td>\n",
       "    </tr>\n",
       "  </tbody>\n",
       "</table>\n",
       "</div>"
      ]
     },
     "metadata": {},
     "output_type": "display_data"
    },
    {
     "name": "stdout",
     "output_type": "stream",
     "text": [
      "Матрица индексов столбцов:\n"
     ]
    },
    {
     "data": {
      "text/plain": [
       "     0    1    2\n",
       "0  0.0  4.0  0.0\n",
       "1  2.0  3.0  0.0\n",
       "2  0.0  0.0  0.0\n",
       "3  3.0  6.0  0.0\n",
       "4  0.0  0.0  0.0\n",
       "5  1.0  2.0  6.0"
      ],
      "text/html": [
       "<div>\n",
       "<style scoped>\n",
       "    .dataframe tbody tr th:only-of-type {\n",
       "        vertical-align: middle;\n",
       "    }\n",
       "\n",
       "    .dataframe tbody tr th {\n",
       "        vertical-align: top;\n",
       "    }\n",
       "\n",
       "    .dataframe thead th {\n",
       "        text-align: right;\n",
       "    }\n",
       "</style>\n",
       "<table border=\"1\" class=\"dataframe\">\n",
       "  <thead>\n",
       "    <tr style=\"text-align: right;\">\n",
       "      <th></th>\n",
       "      <th>0</th>\n",
       "      <th>1</th>\n",
       "      <th>2</th>\n",
       "    </tr>\n",
       "  </thead>\n",
       "  <tbody>\n",
       "    <tr>\n",
       "      <th>0</th>\n",
       "      <td>0.0</td>\n",
       "      <td>4.0</td>\n",
       "      <td>0.0</td>\n",
       "    </tr>\n",
       "    <tr>\n",
       "      <th>1</th>\n",
       "      <td>2.0</td>\n",
       "      <td>3.0</td>\n",
       "      <td>0.0</td>\n",
       "    </tr>\n",
       "    <tr>\n",
       "      <th>2</th>\n",
       "      <td>0.0</td>\n",
       "      <td>0.0</td>\n",
       "      <td>0.0</td>\n",
       "    </tr>\n",
       "    <tr>\n",
       "      <th>3</th>\n",
       "      <td>3.0</td>\n",
       "      <td>6.0</td>\n",
       "      <td>0.0</td>\n",
       "    </tr>\n",
       "    <tr>\n",
       "      <th>4</th>\n",
       "      <td>0.0</td>\n",
       "      <td>0.0</td>\n",
       "      <td>0.0</td>\n",
       "    </tr>\n",
       "    <tr>\n",
       "      <th>5</th>\n",
       "      <td>1.0</td>\n",
       "      <td>2.0</td>\n",
       "      <td>6.0</td>\n",
       "    </tr>\n",
       "  </tbody>\n",
       "</table>\n",
       "</div>"
      ]
     },
     "metadata": {},
     "output_type": "display_data"
    }
   ],
   "execution_count": 7
  },
  {
   "metadata": {},
   "cell_type": "markdown",
   "source": "### 4. reformed matrix",
   "id": "3d4ab1d2b6a41663"
  },
  {
   "metadata": {
    "ExecuteTime": {
     "end_time": "2024-10-24T16:15:02.122509Z",
     "start_time": "2024-10-24T16:15:02.115652Z"
    }
   },
   "cell_type": "code",
   "source": [
    "pd.DataFrame(\n",
    "    processor.get_reformed_matrix(\n",
    "        clear_zero_rated=True,\n",
    "        clear_inactive_users=True,\n",
    "        min_rating=1.15,\n",
    "    )\n",
    ")"
   ],
   "id": "9a669c52e14d2217",
   "outputs": [
    {
     "data": {
      "text/plain": [
       "     0    1    2    3    4    5\n",
       "0  0.0  0.0  3.0  4.0  0.0  0.0\n",
       "1  0.0  0.0  0.0  5.0  0.0  4.0\n",
       "2  0.0  5.0  4.0  0.0  0.0  5.0"
      ],
      "text/html": [
       "<div>\n",
       "<style scoped>\n",
       "    .dataframe tbody tr th:only-of-type {\n",
       "        vertical-align: middle;\n",
       "    }\n",
       "\n",
       "    .dataframe tbody tr th {\n",
       "        vertical-align: top;\n",
       "    }\n",
       "\n",
       "    .dataframe thead th {\n",
       "        text-align: right;\n",
       "    }\n",
       "</style>\n",
       "<table border=\"1\" class=\"dataframe\">\n",
       "  <thead>\n",
       "    <tr style=\"text-align: right;\">\n",
       "      <th></th>\n",
       "      <th>0</th>\n",
       "      <th>1</th>\n",
       "      <th>2</th>\n",
       "      <th>3</th>\n",
       "      <th>4</th>\n",
       "      <th>5</th>\n",
       "    </tr>\n",
       "  </thead>\n",
       "  <tbody>\n",
       "    <tr>\n",
       "      <th>0</th>\n",
       "      <td>0.0</td>\n",
       "      <td>0.0</td>\n",
       "      <td>3.0</td>\n",
       "      <td>4.0</td>\n",
       "      <td>0.0</td>\n",
       "      <td>0.0</td>\n",
       "    </tr>\n",
       "    <tr>\n",
       "      <th>1</th>\n",
       "      <td>0.0</td>\n",
       "      <td>0.0</td>\n",
       "      <td>0.0</td>\n",
       "      <td>5.0</td>\n",
       "      <td>0.0</td>\n",
       "      <td>4.0</td>\n",
       "    </tr>\n",
       "    <tr>\n",
       "      <th>2</th>\n",
       "      <td>0.0</td>\n",
       "      <td>5.0</td>\n",
       "      <td>4.0</td>\n",
       "      <td>0.0</td>\n",
       "      <td>0.0</td>\n",
       "      <td>5.0</td>\n",
       "    </tr>\n",
       "  </tbody>\n",
       "</table>\n",
       "</div>"
      ]
     },
     "execution_count": 8,
     "metadata": {},
     "output_type": "execute_result"
    }
   ],
   "execution_count": 8
  }
 ],
 "metadata": {
  "kernelspec": {
   "display_name": "Python 3",
   "language": "python",
   "name": "python3"
  },
  "language_info": {
   "codemirror_mode": {
    "name": "ipython",
    "version": 2
   },
   "file_extension": ".py",
   "mimetype": "text/x-python",
   "name": "python",
   "nbconvert_exporter": "python",
   "pygments_lexer": "ipython2",
   "version": "2.7.6"
  }
 },
 "nbformat": 4,
 "nbformat_minor": 5
}
