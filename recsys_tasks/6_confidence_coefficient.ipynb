{
 "cells": [
  {
   "cell_type": "code",
   "id": "initial_id",
   "metadata": {
    "collapsed": true,
    "ExecuteTime": {
     "end_time": "2024-11-20T19:09:27.573422Z",
     "start_time": "2024-11-20T19:09:27.569223Z"
    }
   },
   "source": "from processors.confidence_coefficient import MD, MND, E",
   "outputs": [],
   "execution_count": 1
  },
  {
   "metadata": {
    "ExecuteTime": {
     "end_time": "2024-11-20T19:09:27.580741Z",
     "start_time": "2024-11-20T19:09:27.574842Z"
    }
   },
   "cell_type": "code",
   "source": [
    "MD_1, MND_1 = MD(0.8), MND(0.3)\n",
    "MD_2, MND_2 = MD(0.75), MND(0.25)\n",
    "\n",
    "E_1 = E(\n",
    "    md=MD_1 & MD_2,\n",
    "    mnd=MND_1 & MND_2,\n",
    ")\n",
    "E_1\n"
   ],
   "id": "d7003f3325ce899b",
   "outputs": [
    {
     "data": {
      "text/plain": [
       "E: MD=0.75, MND=0.25"
      ]
     },
     "execution_count": 2,
     "metadata": {},
     "output_type": "execute_result"
    }
   ],
   "execution_count": 2
  },
  {
   "metadata": {
    "ExecuteTime": {
     "end_time": "2024-11-20T19:09:27.585506Z",
     "start_time": "2024-11-20T19:09:27.581863Z"
    }
   },
   "cell_type": "code",
   "source": [
    "MD_3, MND_3 = MD(0.4), MND(0.5)\n",
    "MD_4, MND_4 = MD(0.85), MND(0.2)\n",
    "\n",
    "E_2 = E(\n",
    "    md=MD_3 | MD_4,\n",
    "    mnd=MND_3 | MND_4,\n",
    ")\n",
    "E_2\n"
   ],
   "id": "7e78db257f3351f2",
   "outputs": [
    {
     "data": {
      "text/plain": [
       "E: MD=0.85, MND=0.5"
      ]
     },
     "execution_count": 3,
     "metadata": {},
     "output_type": "execute_result"
    }
   ],
   "execution_count": 3
  },
  {
   "metadata": {
    "ExecuteTime": {
     "end_time": "2024-11-20T19:09:27.590789Z",
     "start_time": "2024-11-20T19:09:27.587221Z"
    }
   },
   "cell_type": "code",
   "source": [
    "MD_E1E2 = E_1.md + E_2.md * (~E_1.md)\n",
    "MD_E1E2\n"
   ],
   "id": "c773c757ceb72239",
   "outputs": [
    {
     "data": {
      "text/plain": [
       "MD=0.9625"
      ]
     },
     "execution_count": 4,
     "metadata": {},
     "output_type": "execute_result"
    }
   ],
   "execution_count": 4
  },
  {
   "metadata": {
    "ExecuteTime": {
     "end_time": "2024-11-20T19:09:27.598487Z",
     "start_time": "2024-11-20T19:09:27.591830Z"
    }
   },
   "cell_type": "code",
   "source": [
    "MND_E1E2 = E_1.mnd + E_2.mnd * (~E_1.mnd)\n",
    "MND_E1E2\n"
   ],
   "id": "5fd89c498d4ed622",
   "outputs": [
    {
     "data": {
      "text/plain": [
       "MND=0.625"
      ]
     },
     "execution_count": 5,
     "metadata": {},
     "output_type": "execute_result"
    }
   ],
   "execution_count": 5
  },
  {
   "metadata": {
    "ExecuteTime": {
     "end_time": "2024-11-20T19:09:27.604122Z",
     "start_time": "2024-11-20T19:09:27.599798Z"
    }
   },
   "cell_type": "code",
   "source": [
    "KU_E1E2 = float(MD_E1E2 - MND_E1E2)\n",
    "print('KU=', KU_E1E2, sep='')\n"
   ],
   "id": "435d3bfed47ed7ba",
   "outputs": [
    {
     "name": "stdout",
     "output_type": "stream",
     "text": [
      "KU=0.3375\n"
     ]
    }
   ],
   "execution_count": 6
  }
 ],
 "metadata": {
  "kernelspec": {
   "display_name": "Python 3",
   "language": "python",
   "name": "python3"
  },
  "language_info": {
   "codemirror_mode": {
    "name": "ipython",
    "version": 2
   },
   "file_extension": ".py",
   "mimetype": "text/x-python",
   "name": "python",
   "nbconvert_exporter": "python",
   "pygments_lexer": "ipython2",
   "version": "2.7.6"
  }
 },
 "nbformat": 4,
 "nbformat_minor": 5
}
