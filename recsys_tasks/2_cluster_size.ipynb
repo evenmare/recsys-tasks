{
 "cells": [
  {
   "cell_type": "code",
   "id": "initial_id",
   "metadata": {
    "collapsed": true,
    "ExecuteTime": {
     "end_time": "2024-10-18T15:05:19.186365Z",
     "start_time": "2024-10-18T15:05:17.196469Z"
    }
   },
   "source": [
    "from IPython.display import display\n",
    "\n",
    "import numpy as np\n",
    "import pandas as pd\n",
    "from scipy.cluster.hierarchy import dendrogram\n",
    "\n",
    "from conf.settings import (\n",
    "    get_settings, Settings,\n",
    "    get_read_file_settings, ReadFileSettings,\n",
    ")\n",
    "from recsys_tasks.processors.cluster_size import ClusterSizeProcessor\n"
   ],
   "outputs": [],
   "execution_count": 1
  },
  {
   "metadata": {
    "ExecuteTime": {
     "end_time": "2024-10-18T15:05:19.207611Z",
     "start_time": "2024-10-18T15:05:19.201694Z"
    }
   },
   "cell_type": "code",
   "source": [
    "# Получение конфигурации для расчетов.\n",
    "settings: Settings = get_settings()\n",
    "read_file_settings: ReadFileSettings = get_read_file_settings()"
   ],
   "id": "995919c7def80be8",
   "outputs": [],
   "execution_count": 2
  },
  {
   "metadata": {
    "ExecuteTime": {
     "end_time": "2024-10-18T15:05:19.478411Z",
     "start_time": "2024-10-18T15:05:19.473849Z"
    }
   },
   "cell_type": "code",
   "source": [
    "# Функция для отображения результатов работы процессора\n",
    "def display_processor_output(union_iterations):\n",
    "    for iter_idx, union_iteration in enumerate(union_iterations):\n",
    "        print(\n",
    "            f'Итерация #{iter_idx + 1}: объединение элементов {union_iteration.union_indices}.\\n'\n",
    "            f'Значение: {union_iteration.value}'\n",
    "        )\n",
    "        \n",
    "        names = [\n",
    "            ', '.join(map(str, iteration_indices))\n",
    "            for iteration_indices in union_iteration.index_map.values()\n",
    "        ]\n",
    "\n",
    "        matrix_repr = pd.DataFrame(\n",
    "            data=union_iteration.result_matrix,\n",
    "            index=names,\n",
    "            columns=names,\n",
    "        )\n",
    "        display(matrix_repr)"
   ],
   "id": "e9e96d9284251a8f",
   "outputs": [],
   "execution_count": 3
  },
  {
   "metadata": {},
   "cell_type": "markdown",
   "source": "### 1. Проверка размера кластара на примере из задания",
   "id": "d23bd4d04cf5364b"
  },
  {
   "metadata": {
    "ExecuteTime": {
     "end_time": "2024-10-18T15:05:19.597739Z",
     "start_time": "2024-10-18T15:05:19.501401Z"
    }
   },
   "cell_type": "code",
   "source": [
    "# Получение матричного представления исходных данных.\n",
    "input_data_folder = '2_cluster_size'\n",
    "input_data_filename = 'example.csv'\n",
    "input_data_filepath = settings.INPUT_DATA_DIR / input_data_folder / input_data_filename\n",
    "\n",
    "source_data: np.ndarray = np.genfromtxt(\n",
    "    input_data_filepath,\n",
    "    dtype=float,\n",
    "    **read_file_settings.model_dump(),\n",
    ")\n",
    "source_data: np.ndarray[tuple[int, int], float]\n",
    "source_data"
   ],
   "id": "2cf32365b836d32c",
   "outputs": [
    {
     "data": {
      "text/plain": [
       "array([[-1.  ,  0.95,  0.9 ,  0.85,  0.8 ],\n",
       "       [-1.  , -1.  ,  0.75,  0.7 ,  0.65],\n",
       "       [-1.  , -1.  , -1.  ,  0.6 ,  0.8 ],\n",
       "       [-1.  , -1.  , -1.  , -1.  ,  0.7 ],\n",
       "       [-1.  , -1.  , -1.  , -1.  , -1.  ]])"
      ]
     },
     "execution_count": 4,
     "metadata": {},
     "output_type": "execute_result"
    }
   ],
   "execution_count": 4
  },
  {
   "metadata": {
    "ExecuteTime": {
     "end_time": "2024-10-18T15:05:19.724351Z",
     "start_time": "2024-10-18T15:05:19.672496Z"
    }
   },
   "cell_type": "code",
   "source": [
    "processor = ClusterSizeProcessor(source_data)\n",
    "result = processor(0.85)\n",
    "\n",
    "display_processor_output(result)"
   ],
   "id": "87beb217c64cb004",
   "outputs": [
    {
     "name": "stdout",
     "output_type": "stream",
     "text": [
      "Итерация #1: объединение элементов ([0], [1]).\n",
      "Значение: 0.95\n"
     ]
    },
    {
     "data": {
      "text/plain": [
       "      0, 1    2     3    4\n",
       "0, 1  -1.0  0.9  0.85  0.8\n",
       "2     -1.0 -1.0  0.60  0.8\n",
       "3     -1.0 -1.0 -1.00  0.7\n",
       "4     -1.0 -1.0 -1.00 -1.0"
      ],
      "text/html": [
       "<div>\n",
       "<style scoped>\n",
       "    .dataframe tbody tr th:only-of-type {\n",
       "        vertical-align: middle;\n",
       "    }\n",
       "\n",
       "    .dataframe tbody tr th {\n",
       "        vertical-align: top;\n",
       "    }\n",
       "\n",
       "    .dataframe thead th {\n",
       "        text-align: right;\n",
       "    }\n",
       "</style>\n",
       "<table border=\"1\" class=\"dataframe\">\n",
       "  <thead>\n",
       "    <tr style=\"text-align: right;\">\n",
       "      <th></th>\n",
       "      <th>0, 1</th>\n",
       "      <th>2</th>\n",
       "      <th>3</th>\n",
       "      <th>4</th>\n",
       "    </tr>\n",
       "  </thead>\n",
       "  <tbody>\n",
       "    <tr>\n",
       "      <th>0, 1</th>\n",
       "      <td>-1.0</td>\n",
       "      <td>0.9</td>\n",
       "      <td>0.85</td>\n",
       "      <td>0.8</td>\n",
       "    </tr>\n",
       "    <tr>\n",
       "      <th>2</th>\n",
       "      <td>-1.0</td>\n",
       "      <td>-1.0</td>\n",
       "      <td>0.60</td>\n",
       "      <td>0.8</td>\n",
       "    </tr>\n",
       "    <tr>\n",
       "      <th>3</th>\n",
       "      <td>-1.0</td>\n",
       "      <td>-1.0</td>\n",
       "      <td>-1.00</td>\n",
       "      <td>0.7</td>\n",
       "    </tr>\n",
       "    <tr>\n",
       "      <th>4</th>\n",
       "      <td>-1.0</td>\n",
       "      <td>-1.0</td>\n",
       "      <td>-1.00</td>\n",
       "      <td>-1.0</td>\n",
       "    </tr>\n",
       "  </tbody>\n",
       "</table>\n",
       "</div>"
      ]
     },
     "metadata": {},
     "output_type": "display_data"
    },
    {
     "name": "stdout",
     "output_type": "stream",
     "text": [
      "Итерация #2: объединение элементов ([0, 1], [2]).\n",
      "Значение: 0.9\n"
     ]
    },
    {
     "data": {
      "text/plain": [
       "         0, 1, 2     3    4\n",
       "0, 1, 2     -1.0  0.85  0.8\n",
       "3           -1.0 -1.00  0.7\n",
       "4           -1.0 -1.00 -1.0"
      ],
      "text/html": [
       "<div>\n",
       "<style scoped>\n",
       "    .dataframe tbody tr th:only-of-type {\n",
       "        vertical-align: middle;\n",
       "    }\n",
       "\n",
       "    .dataframe tbody tr th {\n",
       "        vertical-align: top;\n",
       "    }\n",
       "\n",
       "    .dataframe thead th {\n",
       "        text-align: right;\n",
       "    }\n",
       "</style>\n",
       "<table border=\"1\" class=\"dataframe\">\n",
       "  <thead>\n",
       "    <tr style=\"text-align: right;\">\n",
       "      <th></th>\n",
       "      <th>0, 1, 2</th>\n",
       "      <th>3</th>\n",
       "      <th>4</th>\n",
       "    </tr>\n",
       "  </thead>\n",
       "  <tbody>\n",
       "    <tr>\n",
       "      <th>0, 1, 2</th>\n",
       "      <td>-1.0</td>\n",
       "      <td>0.85</td>\n",
       "      <td>0.8</td>\n",
       "    </tr>\n",
       "    <tr>\n",
       "      <th>3</th>\n",
       "      <td>-1.0</td>\n",
       "      <td>-1.00</td>\n",
       "      <td>0.7</td>\n",
       "    </tr>\n",
       "    <tr>\n",
       "      <th>4</th>\n",
       "      <td>-1.0</td>\n",
       "      <td>-1.00</td>\n",
       "      <td>-1.0</td>\n",
       "    </tr>\n",
       "  </tbody>\n",
       "</table>\n",
       "</div>"
      ]
     },
     "metadata": {},
     "output_type": "display_data"
    },
    {
     "name": "stdout",
     "output_type": "stream",
     "text": [
      "Итерация #3: объединение элементов ([0, 1, 2], [3]).\n",
      "Значение: 0.85\n"
     ]
    },
    {
     "data": {
      "text/plain": [
       "            0, 1, 2, 3    4\n",
       "0, 1, 2, 3        -1.0  0.8\n",
       "4                 -1.0 -1.0"
      ],
      "text/html": [
       "<div>\n",
       "<style scoped>\n",
       "    .dataframe tbody tr th:only-of-type {\n",
       "        vertical-align: middle;\n",
       "    }\n",
       "\n",
       "    .dataframe tbody tr th {\n",
       "        vertical-align: top;\n",
       "    }\n",
       "\n",
       "    .dataframe thead th {\n",
       "        text-align: right;\n",
       "    }\n",
       "</style>\n",
       "<table border=\"1\" class=\"dataframe\">\n",
       "  <thead>\n",
       "    <tr style=\"text-align: right;\">\n",
       "      <th></th>\n",
       "      <th>0, 1, 2, 3</th>\n",
       "      <th>4</th>\n",
       "    </tr>\n",
       "  </thead>\n",
       "  <tbody>\n",
       "    <tr>\n",
       "      <th>0, 1, 2, 3</th>\n",
       "      <td>-1.0</td>\n",
       "      <td>0.8</td>\n",
       "    </tr>\n",
       "    <tr>\n",
       "      <th>4</th>\n",
       "      <td>-1.0</td>\n",
       "      <td>-1.0</td>\n",
       "    </tr>\n",
       "  </tbody>\n",
       "</table>\n",
       "</div>"
      ]
     },
     "metadata": {},
     "output_type": "display_data"
    }
   ],
   "execution_count": 5
  },
  {
   "metadata": {
    "ExecuteTime": {
     "end_time": "2024-10-18T15:05:20.641485Z",
     "start_time": "2024-10-18T15:05:20.159822Z"
    }
   },
   "cell_type": "code",
   "source": [
    "# Построение дендрограммы объединений.\n",
    "dendrogram(processor.dendrogram_info)"
   ],
   "id": "eee2c35e63a0f803",
   "outputs": [
    {
     "data": {
      "text/plain": [
       "{'icoord': [[5.0, 5.0, 15.0, 15.0],\n",
       "  [10.0, 10.0, 25.0, 25.0],\n",
       "  [17.5, 17.5, 35.0, 35.0]],\n",
       " 'dcoord': [[0.0, np.float64(0.95), np.float64(0.95), 0.0],\n",
       "  [np.float64(0.95), np.float64(0.9), np.float64(0.9), 0.0],\n",
       "  [np.float64(0.9), np.float64(0.85), np.float64(0.85), 0.0]],\n",
       " 'ivl': ['0', '1', '2', '3'],\n",
       " 'leaves': [0, 1, 2, 3],\n",
       " 'color_list': ['C0', 'C0', 'C0'],\n",
       " 'leaves_color_list': ['C0', 'C0', 'C0', 'C0']}"
      ]
     },
     "execution_count": 6,
     "metadata": {},
     "output_type": "execute_result"
    },
    {
     "data": {
      "text/plain": [
       "<Figure size 640x480 with 1 Axes>"
      ],
      "image/png": "[encoded data removed]"
     },
     "metadata": {},
     "output_type": "display_data"
    }
   ],
   "execution_count": 6
  },
  {
   "metadata": {},
   "cell_type": "markdown",
   "source": "### 2. Проверка размера кластера на примере из резултатов обработки прошлого задания",
   "id": "f1c2ba1d5d4ba6a1"
  },
  {
   "metadata": {
    "ExecuteTime": {
     "end_time": "2024-10-18T15:05:20.660181Z",
     "start_time": "2024-10-18T15:05:20.651595Z"
    }
   },
   "cell_type": "code",
   "source": [
    "# Получение матричного представления исходных данных.\n",
    "input_data_folder = '2_cluster_size'\n",
    "input_data_filename = 'task_1_users.csv'\n",
    "input_data_filepath = settings.INPUT_DATA_DIR / input_data_folder / input_data_filename\n",
    "\n",
    "source_data: np.ndarray = np.genfromtxt(\n",
    "    input_data_filepath,\n",
    "    dtype=float,\n",
    "    **read_file_settings.model_dump(),\n",
    ")\n",
    "source_data: np.ndarray[tuple[int, int], float]\n",
    "source_data"
   ],
   "id": "13ec957785147fce",
   "outputs": [
    {
     "data": {
      "text/plain": [
       "array([[-1.        ,  0.88281509,  0.9929078 ,  0.78652574,  0.85863549],\n",
       "       [-1.        , -1.        ,  0.89164324,  0.94138757,  0.89824939],\n",
       "       [-1.        , -1.        , -1.        ,  0.80165124,  0.82209781],\n",
       "       [-1.        , -1.        , -1.        , -1.        ,  0.83768   ],\n",
       "       [-1.        , -1.        , -1.        , -1.        , -1.        ]])"
      ]
     },
     "execution_count": 7,
     "metadata": {},
     "output_type": "execute_result"
    }
   ],
   "execution_count": 7
  },
  {
   "metadata": {
    "ExecuteTime": {
     "end_time": "2024-10-18T15:05:20.822072Z",
     "start_time": "2024-10-18T15:05:20.783329Z"
    }
   },
   "cell_type": "code",
   "source": [
    "processor = ClusterSizeProcessor(source_data)\n",
    "result = processor(0.8)\n",
    "\n",
    "display_processor_output(result)"
   ],
   "id": "9361b55f361237cd",
   "outputs": [
    {
     "name": "stdout",
     "output_type": "stream",
     "text": [
      "Итерация #1: объединение элементов ([0], [2]).\n",
      "Значение: 0.9929078\n"
     ]
    },
    {
     "data": {
      "text/plain": [
       "      0, 2         1         3         4\n",
       "0, 2  -1.0  0.891643  0.801651  0.858635\n",
       "1     -1.0 -1.000000  0.941388  0.898249\n",
       "3     -1.0 -1.000000 -1.000000  0.837680\n",
       "4     -1.0 -1.000000 -1.000000 -1.000000"
      ],
      "text/html": [
       "<div>\n",
       "<style scoped>\n",
       "    .dataframe tbody tr th:only-of-type {\n",
       "        vertical-align: middle;\n",
       "    }\n",
       "\n",
       "    .dataframe tbody tr th {\n",
       "        vertical-align: top;\n",
       "    }\n",
       "\n",
       "    .dataframe thead th {\n",
       "        text-align: right;\n",
       "    }\n",
       "</style>\n",
       "<table border=\"1\" class=\"dataframe\">\n",
       "  <thead>\n",
       "    <tr style=\"text-align: right;\">\n",
       "      <th></th>\n",
       "      <th>0, 2</th>\n",
       "      <th>1</th>\n",
       "      <th>3</th>\n",
       "      <th>4</th>\n",
       "    </tr>\n",
       "  </thead>\n",
       "  <tbody>\n",
       "    <tr>\n",
       "      <th>0, 2</th>\n",
       "      <td>-1.0</td>\n",
       "      <td>0.891643</td>\n",
       "      <td>0.801651</td>\n",
       "      <td>0.858635</td>\n",
       "    </tr>\n",
       "    <tr>\n",
       "      <th>1</th>\n",
       "      <td>-1.0</td>\n",
       "      <td>-1.000000</td>\n",
       "      <td>0.941388</td>\n",
       "      <td>0.898249</td>\n",
       "    </tr>\n",
       "    <tr>\n",
       "      <th>3</th>\n",
       "      <td>-1.0</td>\n",
       "      <td>-1.000000</td>\n",
       "      <td>-1.000000</td>\n",
       "      <td>0.837680</td>\n",
       "    </tr>\n",
       "    <tr>\n",
       "      <th>4</th>\n",
       "      <td>-1.0</td>\n",
       "      <td>-1.000000</td>\n",
       "      <td>-1.000000</td>\n",
       "      <td>-1.000000</td>\n",
       "    </tr>\n",
       "  </tbody>\n",
       "</table>\n",
       "</div>"
      ]
     },
     "metadata": {},
     "output_type": "display_data"
    },
    {
     "name": "stdout",
     "output_type": "stream",
     "text": [
      "Итерация #2: объединение элементов ([1], [3]).\n",
      "Значение: 0.94138757\n"
     ]
    },
    {
     "data": {
      "text/plain": [
       "      0, 2      1, 3         4\n",
       "0, 2  -1.0  0.891643  0.858635\n",
       "1, 3  -1.0 -1.000000  0.898249\n",
       "4     -1.0 -1.000000 -1.000000"
      ],
      "text/html": [
       "<div>\n",
       "<style scoped>\n",
       "    .dataframe tbody tr th:only-of-type {\n",
       "        vertical-align: middle;\n",
       "    }\n",
       "\n",
       "    .dataframe tbody tr th {\n",
       "        vertical-align: top;\n",
       "    }\n",
       "\n",
       "    .dataframe thead th {\n",
       "        text-align: right;\n",
       "    }\n",
       "</style>\n",
       "<table border=\"1\" class=\"dataframe\">\n",
       "  <thead>\n",
       "    <tr style=\"text-align: right;\">\n",
       "      <th></th>\n",
       "      <th>0, 2</th>\n",
       "      <th>1, 3</th>\n",
       "      <th>4</th>\n",
       "    </tr>\n",
       "  </thead>\n",
       "  <tbody>\n",
       "    <tr>\n",
       "      <th>0, 2</th>\n",
       "      <td>-1.0</td>\n",
       "      <td>0.891643</td>\n",
       "      <td>0.858635</td>\n",
       "    </tr>\n",
       "    <tr>\n",
       "      <th>1, 3</th>\n",
       "      <td>-1.0</td>\n",
       "      <td>-1.000000</td>\n",
       "      <td>0.898249</td>\n",
       "    </tr>\n",
       "    <tr>\n",
       "      <th>4</th>\n",
       "      <td>-1.0</td>\n",
       "      <td>-1.000000</td>\n",
       "      <td>-1.000000</td>\n",
       "    </tr>\n",
       "  </tbody>\n",
       "</table>\n",
       "</div>"
      ]
     },
     "metadata": {},
     "output_type": "display_data"
    },
    {
     "name": "stdout",
     "output_type": "stream",
     "text": [
      "Итерация #3: объединение элементов ([1, 3], [4]).\n",
      "Значение: 0.89824939\n"
     ]
    },
    {
     "data": {
      "text/plain": [
       "         0, 2   1, 3, 4\n",
       "0, 2     -1.0  0.891643\n",
       "1, 3, 4  -1.0 -1.000000"
      ],
      "text/html": [
       "<div>\n",
       "<style scoped>\n",
       "    .dataframe tbody tr th:only-of-type {\n",
       "        vertical-align: middle;\n",
       "    }\n",
       "\n",
       "    .dataframe tbody tr th {\n",
       "        vertical-align: top;\n",
       "    }\n",
       "\n",
       "    .dataframe thead th {\n",
       "        text-align: right;\n",
       "    }\n",
       "</style>\n",
       "<table border=\"1\" class=\"dataframe\">\n",
       "  <thead>\n",
       "    <tr style=\"text-align: right;\">\n",
       "      <th></th>\n",
       "      <th>0, 2</th>\n",
       "      <th>1, 3, 4</th>\n",
       "    </tr>\n",
       "  </thead>\n",
       "  <tbody>\n",
       "    <tr>\n",
       "      <th>0, 2</th>\n",
       "      <td>-1.0</td>\n",
       "      <td>0.891643</td>\n",
       "    </tr>\n",
       "    <tr>\n",
       "      <th>1, 3, 4</th>\n",
       "      <td>-1.0</td>\n",
       "      <td>-1.000000</td>\n",
       "    </tr>\n",
       "  </tbody>\n",
       "</table>\n",
       "</div>"
      ]
     },
     "metadata": {},
     "output_type": "display_data"
    },
    {
     "name": "stdout",
     "output_type": "stream",
     "text": [
      "Итерация #4: объединение элементов ([0, 2], [1, 3, 4]).\n",
      "Значение: 0.89164324\n"
     ]
    },
    {
     "data": {
      "text/plain": [
       "               0, 2, 1, 3, 4\n",
       "0, 2, 1, 3, 4           -1.0"
      ],
      "text/html": [
       "<div>\n",
       "<style scoped>\n",
       "    .dataframe tbody tr th:only-of-type {\n",
       "        vertical-align: middle;\n",
       "    }\n",
       "\n",
       "    .dataframe tbody tr th {\n",
       "        vertical-align: top;\n",
       "    }\n",
       "\n",
       "    .dataframe thead th {\n",
       "        text-align: right;\n",
       "    }\n",
       "</style>\n",
       "<table border=\"1\" class=\"dataframe\">\n",
       "  <thead>\n",
       "    <tr style=\"text-align: right;\">\n",
       "      <th></th>\n",
       "      <th>0, 2, 1, 3, 4</th>\n",
       "    </tr>\n",
       "  </thead>\n",
       "  <tbody>\n",
       "    <tr>\n",
       "      <th>0, 2, 1, 3, 4</th>\n",
       "      <td>-1.0</td>\n",
       "    </tr>\n",
       "  </tbody>\n",
       "</table>\n",
       "</div>"
      ]
     },
     "metadata": {},
     "output_type": "display_data"
    }
   ],
   "execution_count": 8
  },
  {
   "metadata": {
    "ExecuteTime": {
     "end_time": "2024-10-18T15:05:21.120827Z",
     "start_time": "2024-10-18T15:05:21.005867Z"
    }
   },
   "cell_type": "code",
   "source": [
    "# Построение дендрограммы объединений.\n",
    "dendrogram(processor.dendrogram_info)"
   ],
   "id": "408d948d33b3b488",
   "outputs": [
    {
     "data": {
      "text/plain": [
       "{'icoord': [[5.0, 5.0, 15.0, 15.0],\n",
       "  [25.0, 25.0, 35.0, 35.0],\n",
       "  [30.0, 30.0, 45.0, 45.0],\n",
       "  [10.0, 10.0, 37.5, 37.5]],\n",
       " 'dcoord': [[0.0, np.float64(0.9929078), np.float64(0.9929078), 0.0],\n",
       "  [0.0, np.float64(0.94138757), np.float64(0.94138757), 0.0],\n",
       "  [np.float64(0.94138757),\n",
       "   np.float64(0.89824939),\n",
       "   np.float64(0.89824939),\n",
       "   0.0],\n",
       "  [np.float64(0.9929078),\n",
       "   np.float64(0.89164324),\n",
       "   np.float64(0.89164324),\n",
       "   np.float64(0.89824939)]],\n",
       " 'ivl': ['0', '2', '1', '3', '4'],\n",
       " 'leaves': [0, 2, 1, 3, 4],\n",
       " 'color_list': ['C0', 'C0', 'C0', 'C0'],\n",
       " 'leaves_color_list': ['C0', 'C0', 'C0', 'C0', 'C0']}"
      ]
     },
     "execution_count": 9,
     "metadata": {},
     "output_type": "execute_result"
    },
    {
     "data": {
      "text/plain": [
       "<Figure size 640x480 with 1 Axes>"
      ],
      "image/png": "[encoded data removed]"
     },
     "metadata": {},
     "output_type": "display_data"
    }
   ],
   "execution_count": 9
  }
 ],
 "metadata": {
  "kernelspec": {
   "display_name": "Python 3",
   "language": "python",
   "name": "python3"
  },
  "language_info": {
   "codemirror_mode": {
    "name": "ipython",
    "version": 2
   },
   "file_extension": ".py",
   "mimetype": "text/x-python",
   "name": "python",
   "nbconvert_exporter": "python",
   "pygments_lexer": "ipython2",
   "version": "2.7.6"
  }
 },
 "nbformat": 4,
 "nbformat_minor": 5
}
