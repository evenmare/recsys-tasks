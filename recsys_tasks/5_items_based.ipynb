{
 "cells": [
  {
   "cell_type": "code",
   "id": "initial_id",
   "metadata": {
    "collapsed": true,
    "ExecuteTime": {
     "end_time": "2024-11-11T20:02:18.132948Z",
     "start_time": "2024-11-11T20:02:17.870618Z"
    }
   },
   "source": [
    "from IPython.display import display\n",
    "\n",
    "import numpy as np\n",
    "import pandas as pd\n",
    "\n",
    "from conf.settings import (\n",
    "    get_settings, Settings,\n",
    "    get_read_file_settings, ReadFileSettings,\n",
    ")\n",
    "from recsys_tasks.annotations.common import ProductInfoWithDetails\n",
    "from recsys_tasks.processors.items_based import ItemBasedRecommendationsProcessor\n"
   ],
   "outputs": [],
   "execution_count": 1
  },
  {
   "metadata": {
    "ExecuteTime": {
     "end_time": "2024-11-11T20:02:18.137900Z",
     "start_time": "2024-11-11T20:02:18.134330Z"
    }
   },
   "cell_type": "code",
   "source": [
    "# Получение конфигурации для расчетов.\n",
    "settings: Settings = get_settings()\n",
    "read_file_settings: ReadFileSettings = get_read_file_settings()"
   ],
   "id": "eed91304b7a21445",
   "outputs": [],
   "execution_count": 2
  },
  {
   "metadata": {
    "ExecuteTime": {
     "end_time": "2024-11-11T20:02:18.151797Z",
     "start_time": "2024-11-11T20:02:18.139181Z"
    }
   },
   "cell_type": "code",
   "source": [
    "# Получение матричного представления исходных данных.\n",
    "input_data_filename = '5_items_based.csv'\n",
    "input_data_filepath = settings.INPUT_DATA_DIR / input_data_filename\n",
    "\n",
    "source_data: np.ndarray = np.genfromtxt(\n",
    "    input_data_filepath,\n",
    "    dtype=float,\n",
    "    **read_file_settings.model_dump(),\n",
    ")\n",
    "source_data: np.ndarray[tuple[int, int], int]\n",
    "pd.DataFrame(source_data)"
   ],
   "id": "34c67ebd255ff00d",
   "outputs": [
    {
     "data": {
      "text/plain": [
       "    0    1    2    3    4    5    6    7    8    9   10\n",
       "0  4.0  3.0  2.0  3.0  4.0  5.0  3.0  2.0  4.0  4.0 NaN\n",
       "1  3.0  4.0  3.0  5.0  3.0  4.0  3.0  3.0  NaN  2.0 NaN\n",
       "2  5.0  5.0  3.0  4.0  4.0  3.0  3.0  4.0  NaN  4.0 NaN\n",
       "3  4.0  4.0  3.0  3.0  1.0  4.0  1.0  3.0  3.0  2.0 NaN\n",
       "4  4.0  5.0  3.0  2.0  2.0  2.0  2.0  3.0  4.0  3.0 NaN"
      ],
      "text/html": [
       "<div>\n",
       "<style scoped>\n",
       "    .dataframe tbody tr th:only-of-type {\n",
       "        vertical-align: middle;\n",
       "    }\n",
       "\n",
       "    .dataframe tbody tr th {\n",
       "        vertical-align: top;\n",
       "    }\n",
       "\n",
       "    .dataframe thead th {\n",
       "        text-align: right;\n",
       "    }\n",
       "</style>\n",
       "<table border=\"1\" class=\"dataframe\">\n",
       "  <thead>\n",
       "    <tr style=\"text-align: right;\">\n",
       "      <th></th>\n",
       "      <th>0</th>\n",
       "      <th>1</th>\n",
       "      <th>2</th>\n",
       "      <th>3</th>\n",
       "      <th>4</th>\n",
       "      <th>5</th>\n",
       "      <th>6</th>\n",
       "      <th>7</th>\n",
       "      <th>8</th>\n",
       "      <th>9</th>\n",
       "      <th>10</th>\n",
       "    </tr>\n",
       "  </thead>\n",
       "  <tbody>\n",
       "    <tr>\n",
       "      <th>0</th>\n",
       "      <td>4.0</td>\n",
       "      <td>3.0</td>\n",
       "      <td>2.0</td>\n",
       "      <td>3.0</td>\n",
       "      <td>4.0</td>\n",
       "      <td>5.0</td>\n",
       "      <td>3.0</td>\n",
       "      <td>2.0</td>\n",
       "      <td>4.0</td>\n",
       "      <td>4.0</td>\n",
       "      <td>NaN</td>\n",
       "    </tr>\n",
       "    <tr>\n",
       "      <th>1</th>\n",
       "      <td>3.0</td>\n",
       "      <td>4.0</td>\n",
       "      <td>3.0</td>\n",
       "      <td>5.0</td>\n",
       "      <td>3.0</td>\n",
       "      <td>4.0</td>\n",
       "      <td>3.0</td>\n",
       "      <td>3.0</td>\n",
       "      <td>NaN</td>\n",
       "      <td>2.0</td>\n",
       "      <td>NaN</td>\n",
       "    </tr>\n",
       "    <tr>\n",
       "      <th>2</th>\n",
       "      <td>5.0</td>\n",
       "      <td>5.0</td>\n",
       "      <td>3.0</td>\n",
       "      <td>4.0</td>\n",
       "      <td>4.0</td>\n",
       "      <td>3.0</td>\n",
       "      <td>3.0</td>\n",
       "      <td>4.0</td>\n",
       "      <td>NaN</td>\n",
       "      <td>4.0</td>\n",
       "      <td>NaN</td>\n",
       "    </tr>\n",
       "    <tr>\n",
       "      <th>3</th>\n",
       "      <td>4.0</td>\n",
       "      <td>4.0</td>\n",
       "      <td>3.0</td>\n",
       "      <td>3.0</td>\n",
       "      <td>1.0</td>\n",
       "      <td>4.0</td>\n",
       "      <td>1.0</td>\n",
       "      <td>3.0</td>\n",
       "      <td>3.0</td>\n",
       "      <td>2.0</td>\n",
       "      <td>NaN</td>\n",
       "    </tr>\n",
       "    <tr>\n",
       "      <th>4</th>\n",
       "      <td>4.0</td>\n",
       "      <td>5.0</td>\n",
       "      <td>3.0</td>\n",
       "      <td>2.0</td>\n",
       "      <td>2.0</td>\n",
       "      <td>2.0</td>\n",
       "      <td>2.0</td>\n",
       "      <td>3.0</td>\n",
       "      <td>4.0</td>\n",
       "      <td>3.0</td>\n",
       "      <td>NaN</td>\n",
       "    </tr>\n",
       "  </tbody>\n",
       "</table>\n",
       "</div>"
      ]
     },
     "execution_count": 3,
     "metadata": {},
     "output_type": "execute_result"
    }
   ],
   "execution_count": 3
  },
  {
   "metadata": {
    "ExecuteTime": {
     "end_time": "2024-11-11T20:02:18.157926Z",
     "start_time": "2024-11-11T20:02:18.153242Z"
    }
   },
   "cell_type": "code",
   "source": [
    "def display_product_recommendations(products_list: list[ProductInfoWithDetails]):\n",
    "    \"\"\"Отображение детализации по продуктам рекомендаций.\"\"\"\n",
    "    for product in (products_list or []):\n",
    "        print(\n",
    "            f'Продукт №{product.product_id}: '\n",
    "            f'рассчитанный рейтинг – {product.calculated_score}.'\n",
    "        )\n",
    "        \n",
    "        if product.similar_products_similarity:\n",
    "            print('Подобие используемых продуктов:')\n",
    "            display(\n",
    "                pd.DataFrame(\n",
    "                    product.similar_products_similarity.matrix,\n",
    "                    columns=product.similar_products_similarity.columns,\n",
    "                    index=product.similar_products_similarity.index,\n",
    "                )\n",
    "            )\n",
    "        if product.used_products_preferences:\n",
    "            print('Оценки похожих продуктов от пользователя:')\n",
    "            display(\n",
    "                pd.DataFrame(\n",
    "                    product.used_products_preferences.matrix,\n",
    "                    columns=product.used_products_preferences.columns,\n",
    "                    index=product.used_products_preferences.index,\n",
    "                )\n",
    "            )\n",
    "\n",
    "\n",
    "def display_recommendation_results(rec_processor: ItemBasedRecommendationsProcessor):\n",
    "    \"\"\"Отображение результатов работы процессора.\"\"\"\n",
    "    results = rec_processor()\n",
    "    \n",
    "    print('Матрица подобия:')\n",
    "    display(\n",
    "        pd.DataFrame(\n",
    "            rec_processor.similarity_matrix.matrix,\n",
    "            columns=rec_processor.similarity_matrix.columns,\n",
    "            index=rec_processor.similarity_matrix.index,\n",
    "        )\n",
    "    )\n",
    "    \n",
    "    print('Не оцененные пользователем продукты:', rec_processor.not_rated_products)\n",
    "    \n",
    "    if not rec_processor.is_new_user:\n",
    "        print(\n",
    "            'Минимальное пороговое значение для рекомендаций (средний рейтинг пользователя):',\n",
    "            rec_processor.mean_user_score,\n",
    "        )\n",
    "    \n",
    "    print()\n",
    "\n",
    "    print('Рекомендованные продукты:')\n",
    "    display_product_recommendations(results.recommended_products)\n",
    "\n",
    "    print()\n",
    "    \n",
    "    print('Данные продукты не попадут в рекомендации:')\n",
    "    display_product_recommendations(results.not_recommended_products)\n",
    "    \n",
    "    if rec_processor.is_new_user:\n",
    "        print('\\nДанный расчет был проведен для нового пользователя.')\n",
    "        return\n"
   ],
   "id": "301b5ee1432c5824",
   "outputs": [],
   "execution_count": 4
  },
  {
   "metadata": {
    "ExecuteTime": {
     "end_time": "2024-11-11T20:02:18.179943Z",
     "start_time": "2024-11-11T20:02:18.159246Z"
    }
   },
   "cell_type": "code",
   "source": [
    "# Для существующего пользователя.\n",
    "processor = ItemBasedRecommendationsProcessor(source_data, user_id=8, min_similarity_coefficient=0.85)\n",
    "display_recommendation_results(processor)\n"
   ],
   "id": "f895b3eb86e071db",
   "outputs": [
    {
     "name": "stdout",
     "output_type": "stream",
     "text": [
      "Матрица подобия:\n"
     ]
    },
    {
     "data": {
      "text/plain": [
       "          0         1         2         3         4\n",
       "0       NaN  0.872240  0.884841  0.908739  0.907007\n",
       "1  0.872240       NaN  0.957025  0.890728  0.835306\n",
       "2  0.884841  0.957025       NaN  0.887706  0.892681\n",
       "3  0.908739  0.890728  0.887706       NaN  0.948683\n",
       "4  0.907007  0.835306  0.892681  0.948683       NaN"
      ],
      "text/html": [
       "<div>\n",
       "<style scoped>\n",
       "    .dataframe tbody tr th:only-of-type {\n",
       "        vertical-align: middle;\n",
       "    }\n",
       "\n",
       "    .dataframe tbody tr th {\n",
       "        vertical-align: top;\n",
       "    }\n",
       "\n",
       "    .dataframe thead th {\n",
       "        text-align: right;\n",
       "    }\n",
       "</style>\n",
       "<table border=\"1\" class=\"dataframe\">\n",
       "  <thead>\n",
       "    <tr style=\"text-align: right;\">\n",
       "      <th></th>\n",
       "      <th>0</th>\n",
       "      <th>1</th>\n",
       "      <th>2</th>\n",
       "      <th>3</th>\n",
       "      <th>4</th>\n",
       "    </tr>\n",
       "  </thead>\n",
       "  <tbody>\n",
       "    <tr>\n",
       "      <th>0</th>\n",
       "      <td>NaN</td>\n",
       "      <td>0.872240</td>\n",
       "      <td>0.884841</td>\n",
       "      <td>0.908739</td>\n",
       "      <td>0.907007</td>\n",
       "    </tr>\n",
       "    <tr>\n",
       "      <th>1</th>\n",
       "      <td>0.872240</td>\n",
       "      <td>NaN</td>\n",
       "      <td>0.957025</td>\n",
       "      <td>0.890728</td>\n",
       "      <td>0.835306</td>\n",
       "    </tr>\n",
       "    <tr>\n",
       "      <th>2</th>\n",
       "      <td>0.884841</td>\n",
       "      <td>0.957025</td>\n",
       "      <td>NaN</td>\n",
       "      <td>0.887706</td>\n",
       "      <td>0.892681</td>\n",
       "    </tr>\n",
       "    <tr>\n",
       "      <th>3</th>\n",
       "      <td>0.908739</td>\n",
       "      <td>0.890728</td>\n",
       "      <td>0.887706</td>\n",
       "      <td>NaN</td>\n",
       "      <td>0.948683</td>\n",
       "    </tr>\n",
       "    <tr>\n",
       "      <th>4</th>\n",
       "      <td>0.907007</td>\n",
       "      <td>0.835306</td>\n",
       "      <td>0.892681</td>\n",
       "      <td>0.948683</td>\n",
       "      <td>NaN</td>\n",
       "    </tr>\n",
       "  </tbody>\n",
       "</table>\n",
       "</div>"
      ]
     },
     "metadata": {},
     "output_type": "display_data"
    },
    {
     "name": "stdout",
     "output_type": "stream",
     "text": [
      "Не оцененные пользователем продукты: [1, 2]\n",
      "Минимальное пороговое значение для рекомендаций (средний рейтинг пользователя): 3.6666666666666665\n",
      "\n",
      "Рекомендованные продукты:\n",
      "Продукт №2: рассчитанный рейтинг – 3.6669306036281357.\n",
      "Подобие используемых продуктов:\n"
     ]
    },
    {
     "data": {
      "text/plain": [
       "          2\n",
       "0  0.884841\n",
       "3  0.887706\n",
       "4  0.892681"
      ],
      "text/html": [
       "<div>\n",
       "<style scoped>\n",
       "    .dataframe tbody tr th:only-of-type {\n",
       "        vertical-align: middle;\n",
       "    }\n",
       "\n",
       "    .dataframe tbody tr th {\n",
       "        vertical-align: top;\n",
       "    }\n",
       "\n",
       "    .dataframe thead th {\n",
       "        text-align: right;\n",
       "    }\n",
       "</style>\n",
       "<table border=\"1\" class=\"dataframe\">\n",
       "  <thead>\n",
       "    <tr style=\"text-align: right;\">\n",
       "      <th></th>\n",
       "      <th>2</th>\n",
       "    </tr>\n",
       "  </thead>\n",
       "  <tbody>\n",
       "    <tr>\n",
       "      <th>0</th>\n",
       "      <td>0.884841</td>\n",
       "    </tr>\n",
       "    <tr>\n",
       "      <th>3</th>\n",
       "      <td>0.887706</td>\n",
       "    </tr>\n",
       "    <tr>\n",
       "      <th>4</th>\n",
       "      <td>0.892681</td>\n",
       "    </tr>\n",
       "  </tbody>\n",
       "</table>\n",
       "</div>"
      ]
     },
     "metadata": {},
     "output_type": "display_data"
    },
    {
     "name": "stdout",
     "output_type": "stream",
     "text": [
      "Оценки похожих продуктов от пользователя:\n"
     ]
    },
    {
     "data": {
      "text/plain": [
       "     8\n",
       "0  4.0\n",
       "3  3.0\n",
       "4  4.0"
      ],
      "text/html": [
       "<div>\n",
       "<style scoped>\n",
       "    .dataframe tbody tr th:only-of-type {\n",
       "        vertical-align: middle;\n",
       "    }\n",
       "\n",
       "    .dataframe tbody tr th {\n",
       "        vertical-align: top;\n",
       "    }\n",
       "\n",
       "    .dataframe thead th {\n",
       "        text-align: right;\n",
       "    }\n",
       "</style>\n",
       "<table border=\"1\" class=\"dataframe\">\n",
       "  <thead>\n",
       "    <tr style=\"text-align: right;\">\n",
       "      <th></th>\n",
       "      <th>8</th>\n",
       "    </tr>\n",
       "  </thead>\n",
       "  <tbody>\n",
       "    <tr>\n",
       "      <th>0</th>\n",
       "      <td>4.0</td>\n",
       "    </tr>\n",
       "    <tr>\n",
       "      <th>3</th>\n",
       "      <td>3.0</td>\n",
       "    </tr>\n",
       "    <tr>\n",
       "      <th>4</th>\n",
       "      <td>4.0</td>\n",
       "    </tr>\n",
       "  </tbody>\n",
       "</table>\n",
       "</div>"
      ]
     },
     "metadata": {},
     "output_type": "display_data"
    },
    {
     "name": "stdout",
     "output_type": "stream",
     "text": [
      "\n",
      "Данные продукты не попадут в рекомендации:\n",
      "Продукт №1: рассчитанный рейтинг – 3.4947567221340456.\n",
      "Подобие используемых продуктов:\n"
     ]
    },
    {
     "data": {
      "text/plain": [
       "          1\n",
       "0  0.872240\n",
       "3  0.890728"
      ],
      "text/html": [
       "<div>\n",
       "<style scoped>\n",
       "    .dataframe tbody tr th:only-of-type {\n",
       "        vertical-align: middle;\n",
       "    }\n",
       "\n",
       "    .dataframe tbody tr th {\n",
       "        vertical-align: top;\n",
       "    }\n",
       "\n",
       "    .dataframe thead th {\n",
       "        text-align: right;\n",
       "    }\n",
       "</style>\n",
       "<table border=\"1\" class=\"dataframe\">\n",
       "  <thead>\n",
       "    <tr style=\"text-align: right;\">\n",
       "      <th></th>\n",
       "      <th>1</th>\n",
       "    </tr>\n",
       "  </thead>\n",
       "  <tbody>\n",
       "    <tr>\n",
       "      <th>0</th>\n",
       "      <td>0.872240</td>\n",
       "    </tr>\n",
       "    <tr>\n",
       "      <th>3</th>\n",
       "      <td>0.890728</td>\n",
       "    </tr>\n",
       "  </tbody>\n",
       "</table>\n",
       "</div>"
      ]
     },
     "metadata": {},
     "output_type": "display_data"
    },
    {
     "name": "stdout",
     "output_type": "stream",
     "text": [
      "Оценки похожих продуктов от пользователя:\n"
     ]
    },
    {
     "data": {
      "text/plain": [
       "     8\n",
       "0  4.0\n",
       "3  3.0"
      ],
      "text/html": [
       "<div>\n",
       "<style scoped>\n",
       "    .dataframe tbody tr th:only-of-type {\n",
       "        vertical-align: middle;\n",
       "    }\n",
       "\n",
       "    .dataframe tbody tr th {\n",
       "        vertical-align: top;\n",
       "    }\n",
       "\n",
       "    .dataframe thead th {\n",
       "        text-align: right;\n",
       "    }\n",
       "</style>\n",
       "<table border=\"1\" class=\"dataframe\">\n",
       "  <thead>\n",
       "    <tr style=\"text-align: right;\">\n",
       "      <th></th>\n",
       "      <th>8</th>\n",
       "    </tr>\n",
       "  </thead>\n",
       "  <tbody>\n",
       "    <tr>\n",
       "      <th>0</th>\n",
       "      <td>4.0</td>\n",
       "    </tr>\n",
       "    <tr>\n",
       "      <th>3</th>\n",
       "      <td>3.0</td>\n",
       "    </tr>\n",
       "  </tbody>\n",
       "</table>\n",
       "</div>"
      ]
     },
     "metadata": {},
     "output_type": "display_data"
    }
   ],
   "execution_count": 5
  },
  {
   "metadata": {
    "ExecuteTime": {
     "end_time": "2024-11-11T20:02:18.187320Z",
     "start_time": "2024-11-11T20:02:18.181004Z"
    }
   },
   "cell_type": "code",
   "source": [
    "# Для нового пользователя.\n",
    "processor = ItemBasedRecommendationsProcessor(source_data, user_id=10)\n",
    "display_recommendation_results(processor)\n"
   ],
   "id": "2f3755f5b19ef1fd",
   "outputs": [
    {
     "name": "stdout",
     "output_type": "stream",
     "text": [
      "Матрица подобия:\n"
     ]
    },
    {
     "data": {
      "text/plain": [
       "          0         1         2         3         4\n",
       "0       NaN  0.872240  0.884841  0.908739  0.907007\n",
       "1  0.872240       NaN  0.957025  0.890728  0.835306\n",
       "2  0.884841  0.957025       NaN  0.887706  0.892681\n",
       "3  0.908739  0.890728  0.887706       NaN  0.948683\n",
       "4  0.907007  0.835306  0.892681  0.948683       NaN"
      ],
      "text/html": [
       "<div>\n",
       "<style scoped>\n",
       "    .dataframe tbody tr th:only-of-type {\n",
       "        vertical-align: middle;\n",
       "    }\n",
       "\n",
       "    .dataframe tbody tr th {\n",
       "        vertical-align: top;\n",
       "    }\n",
       "\n",
       "    .dataframe thead th {\n",
       "        text-align: right;\n",
       "    }\n",
       "</style>\n",
       "<table border=\"1\" class=\"dataframe\">\n",
       "  <thead>\n",
       "    <tr style=\"text-align: right;\">\n",
       "      <th></th>\n",
       "      <th>0</th>\n",
       "      <th>1</th>\n",
       "      <th>2</th>\n",
       "      <th>3</th>\n",
       "      <th>4</th>\n",
       "    </tr>\n",
       "  </thead>\n",
       "  <tbody>\n",
       "    <tr>\n",
       "      <th>0</th>\n",
       "      <td>NaN</td>\n",
       "      <td>0.872240</td>\n",
       "      <td>0.884841</td>\n",
       "      <td>0.908739</td>\n",
       "      <td>0.907007</td>\n",
       "    </tr>\n",
       "    <tr>\n",
       "      <th>1</th>\n",
       "      <td>0.872240</td>\n",
       "      <td>NaN</td>\n",
       "      <td>0.957025</td>\n",
       "      <td>0.890728</td>\n",
       "      <td>0.835306</td>\n",
       "    </tr>\n",
       "    <tr>\n",
       "      <th>2</th>\n",
       "      <td>0.884841</td>\n",
       "      <td>0.957025</td>\n",
       "      <td>NaN</td>\n",
       "      <td>0.887706</td>\n",
       "      <td>0.892681</td>\n",
       "    </tr>\n",
       "    <tr>\n",
       "      <th>3</th>\n",
       "      <td>0.908739</td>\n",
       "      <td>0.890728</td>\n",
       "      <td>0.887706</td>\n",
       "      <td>NaN</td>\n",
       "      <td>0.948683</td>\n",
       "    </tr>\n",
       "    <tr>\n",
       "      <th>4</th>\n",
       "      <td>0.907007</td>\n",
       "      <td>0.835306</td>\n",
       "      <td>0.892681</td>\n",
       "      <td>0.948683</td>\n",
       "      <td>NaN</td>\n",
       "    </tr>\n",
       "  </tbody>\n",
       "</table>\n",
       "</div>"
      ]
     },
     "metadata": {},
     "output_type": "display_data"
    },
    {
     "name": "stdout",
     "output_type": "stream",
     "text": [
      "Не оцененные пользователем продукты: [0, 1, 2, 3, 4]\n",
      "\n",
      "Рекомендованные продукты:\n",
      "Продукт №2: рассчитанный рейтинг – 3.888888888888889.\n",
      "\n",
      "Данные продукты не попадут в рекомендации:\n",
      "\n",
      "Данный расчет был проведен для нового пользователя.\n"
     ]
    }
   ],
   "execution_count": 6
  }
 ],
 "metadata": {
  "kernelspec": {
   "display_name": "Python 3",
   "language": "python",
   "name": "python3"
  },
  "language_info": {
   "codemirror_mode": {
    "name": "ipython",
    "version": 2
   },
   "file_extension": ".py",
   "mimetype": "text/x-python",
   "name": "python",
   "nbconvert_exporter": "python",
   "pygments_lexer": "ipython2",
   "version": "2.7.6"
  }
 },
 "nbformat": 4,
 "nbformat_minor": 5
}
