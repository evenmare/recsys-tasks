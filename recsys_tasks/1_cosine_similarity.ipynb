{
 "cells": [
  {
   "cell_type": "code",
   "id": "initial_id",
   "metadata": {
    "collapsed": true,
    "ExecuteTime": {
     "end_time": "2024-09-26T21:07:12.455531Z",
     "start_time": "2024-09-26T21:07:12.327937Z"
    }
   },
   "source": [
    "import numpy as np\n",
    "\n",
    "from conf.settings import (\n",
    "    get_settings, Settings,\n",
    "    get_read_file_settings, ReadFileSettings,\n",
    ")\n",
    "from processors.cosine_similarity import CosineSimilarityProcessor"
   ],
   "outputs": [],
   "execution_count": 1
  },
  {
   "metadata": {
    "ExecuteTime": {
     "end_time": "2024-09-26T21:07:12.460567Z",
     "start_time": "2024-09-26T21:07:12.457196Z"
    }
   },
   "cell_type": "code",
   "source": [
    "# Получение конфигурации для расчетов.\n",
    "settings: Settings = get_settings()\n",
    "read_file_settings: ReadFileSettings = get_read_file_settings()"
   ],
   "id": "a291597b14bfcdc7",
   "outputs": [],
   "execution_count": 2
  },
  {
   "metadata": {
    "ExecuteTime": {
     "end_time": "2024-09-26T21:07:12.468099Z",
     "start_time": "2024-09-26T21:07:12.462194Z"
    }
   },
   "cell_type": "code",
   "source": [
    "# Получение матричного представления исходных данных.\n",
    "input_data_filename = '1_cosine_similarity.csv'\n",
    "input_data_filepath = settings.INPUT_DATA_DIR / input_data_filename\n",
    "\n",
    "source_data: np.ndarray = np.genfromtxt(\n",
    "    input_data_filepath,\n",
    "    dtype=int,\n",
    "    **read_file_settings.dict(),\n",
    ")\n",
    "source_data: np.ndarray[tuple[int, int], int]\n",
    "source_data"
   ],
   "id": "1b548d8251e0cec0",
   "outputs": [
    {
     "data": {
      "text/plain": [
       "array([[5, 4, 5, 3, 5],\n",
       "       [5, 5, 5, 3, 5],\n",
       "       [5, 4, 4, 2, 5],\n",
       "       [5, 3, 5, 0, 3],\n",
       "       [5, 0, 5, 0, 0],\n",
       "       [4, 5, 5, 3, 1]])"
      ]
     },
     "execution_count": 3,
     "metadata": {},
     "output_type": "execute_result"
    }
   ],
   "execution_count": 3
  },
  {
   "metadata": {
    "ExecuteTime": {
     "end_time": "2024-09-26T21:07:12.473958Z",
     "start_time": "2024-09-26T21:07:12.469882Z"
    }
   },
   "cell_type": "code",
   "source": [
    "# Построение матрицы для соответствия продуктов.\n",
    "products_similarity_processor = CosineSimilarityProcessor(source_data)\n",
    "products_similarity_matrix = products_similarity_processor()\n",
    "products_similarity_matrix"
   ],
   "id": "fc2f95fd89c0dda0",
   "outputs": [
    {
     "data": {
      "text/plain": [
       "array([[-1.        ,  0.99613934,  0.99206151,  0.93376216,  0.70710678,\n",
       "         0.90619215],\n",
       "       [-1.        , -1.        ,  0.99153662,  0.92922799,  0.67728546,\n",
       "         0.92290976],\n",
       "       [-1.        , -1.        , -1.        ,  0.94151841,  0.68624357,\n",
       "         0.87821799],\n",
       "       [-1.        , -1.        , -1.        , -1.        ,  0.85749293,\n",
       "         0.87635344],\n",
       "       [-1.        , -1.        , -1.        , -1.        , -1.        ,\n",
       "         0.7299964 ],\n",
       "       [-1.        , -1.        , -1.        , -1.        , -1.        ,\n",
       "        -1.        ]])"
      ]
     },
     "execution_count": 4,
     "metadata": {},
     "output_type": "execute_result"
    }
   ],
   "execution_count": 4
  },
  {
   "metadata": {
    "ExecuteTime": {
     "end_time": "2024-09-26T21:07:12.479560Z",
     "start_time": "2024-09-26T21:07:12.475251Z"
    }
   },
   "cell_type": "code",
   "source": [
    "# Получение 2 самых близких продукта.\n",
    "products_indices, products_score = CosineSimilarityProcessor.get_top_values(\n",
    "    products_similarity_matrix,\n",
    "    count=1,\n",
    ")[0]\n",
    "print(f\"\"\"\n",
    "Пара близких продуктов: {products_indices}\n",
    "Значение схожести: {products_score:.4f}\n",
    "\"\"\")"
   ],
   "id": "8e37e4d930d51f80",
   "outputs": [
    {
     "name": "stdout",
     "output_type": "stream",
     "text": [
      "\n",
      "Пара близких продуктов: (0, 1)\n",
      "Значение схожести: 0.9961\n",
      "\n"
     ]
    }
   ],
   "execution_count": 5
  },
  {
   "metadata": {
    "ExecuteTime": {
     "end_time": "2024-09-26T21:07:12.485381Z",
     "start_time": "2024-09-26T21:07:12.481306Z"
    }
   },
   "cell_type": "code",
   "source": [
    "# Построение матрицы для соответствия пользователей.\n",
    "users_similarity_processor = CosineSimilarityProcessor(source_data.transpose())\n",
    "users_similarity_matrix = users_similarity_processor()\n",
    "users_similarity_matrix"
   ],
   "id": "d21ef12d2e80d72b",
   "outputs": [
    {
     "data": {
      "text/plain": [
       "array([[-1.        ,  0.88281509,  0.9929078 ,  0.78652574,  0.85863549],\n",
       "       [-1.        , -1.        ,  0.89164324,  0.94138757,  0.89824939],\n",
       "       [-1.        , -1.        , -1.        ,  0.80165124,  0.82209781],\n",
       "       [-1.        , -1.        , -1.        , -1.        ,  0.83768   ],\n",
       "       [-1.        , -1.        , -1.        , -1.        , -1.        ]])"
      ]
     },
     "execution_count": 6,
     "metadata": {},
     "output_type": "execute_result"
    }
   ],
   "execution_count": 6
  },
  {
   "metadata": {
    "ExecuteTime": {
     "end_time": "2024-09-26T21:07:12.490028Z",
     "start_time": "2024-09-26T21:07:12.486608Z"
    }
   },
   "cell_type": "code",
   "source": [
    "# Получение 2 самых близких пользователей.\n",
    "user_indices, users_score = CosineSimilarityProcessor.get_top_values(\n",
    "    users_similarity_matrix,\n",
    "    count=1,\n",
    ")[0]\n",
    "print(f\"\"\"\n",
    "Пара близких пользователей: {user_indices}\n",
    "Значение схожести: {users_score:.4f}\n",
    "\"\"\")"
   ],
   "id": "9bbe04b4de080e0a",
   "outputs": [
    {
     "name": "stdout",
     "output_type": "stream",
     "text": [
      "\n",
      "Пара близких пользователей: (0, 2)\n",
      "Значение схожести: 0.9929\n",
      "\n"
     ]
    }
   ],
   "execution_count": 7
  }
 ],
 "metadata": {
  "kernelspec": {
   "display_name": "Python 3",
   "language": "python",
   "name": "python3"
  },
  "language_info": {
   "codemirror_mode": {
    "name": "ipython",
    "version": 2
   },
   "file_extension": ".py",
   "mimetype": "text/x-python",
   "name": "python",
   "nbconvert_exporter": "python",
   "pygments_lexer": "ipython2",
   "version": "2.7.6"
  }
 },
 "nbformat": 4,
 "nbformat_minor": 5
}
